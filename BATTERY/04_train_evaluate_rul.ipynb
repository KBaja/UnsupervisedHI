{
 "cells": [
  {
   "cell_type": "code",
   "execution_count": 9,
   "metadata": {},
   "outputs": [],
   "source": [
    "import sys\n",
    "sys.path.insert(1, 'BATTERY_GITHUB')\n",
    "import eval_utils\n",
    "import pre_process_utils\n",
    "# import BATTERY_GITHUB.pre_process_utils as pre_process_utils\n",
    "import numpy as np\n",
    "import pandas as pd\n",
    "\n",
    "import tensorflow as tf\n",
    "from tensorflow import keras\n",
    "\n",
    "from sklearn.decomposition import PCA\n",
    "from sklearn.preprocessing import MinMaxScaler\n",
    "\n",
    "import matplotlib.pyplot as plt\n",
    "from matplotlib import gridspec\n",
    "params = {'legend.fontsize': 20,\n",
    "          'figure.figsize': (9,6),\n",
    "         'axes.labelsize': 20,\n",
    "         'axes.titlesize':20,\n",
    "         'xtick.labelsize':'xx-large',\n",
    "         'axes.linewidth' : 2,\n",
    "         'ytick.labelsize':'xx-large'}\n",
    "\n",
    "plt.rcParams.update(params)"
   ]
  },
  {
   "cell_type": "code",
   "execution_count": 25,
   "metadata": {},
   "outputs": [
    {
     "data": {
      "text/plain": [
       "<module 'eval_utils' from '/baja/BATTERY_GITHUB/eval_utils.py'>"
      ]
     },
     "execution_count": 25,
     "metadata": {},
     "output_type": "execute_result"
    }
   ],
   "source": [
    "import importlib\n",
    "importlib.reload(eval_utils)"
   ]
  },
  {
   "cell_type": "code",
   "execution_count": 31,
   "metadata": {},
   "outputs": [],
   "source": [
    "# HI DATA\n",
    "data = np.load('Data/Battery/Load_data_big_sameT/processed_data_2post_200_60RUL.npz')\n",
    "Voltage_windows = data['Voltage_windows']\n",
    "Cycles_windows = data['Cycles_windows']\n",
    "Units_windows = data['Units_windows']\n",
    "Current_windows = data['Current_windows']\n",
    "Cycles_windows_2 = data['Cycles_windows_2']\n",
    "HI_windows = data['HI_windows']\n",
    "Temp_windows = data['Temp_windows']\n",
    "Time_windows = data['Time_windows']\n",
    "\n",
    "\n",
    "\n",
    "data = np.load('Data/Battery/Load_data_big_sameT/processed_data_2post_test_200_60RUL.npz')\n",
    "Voltage_windows_test = data['Voltage_windows_test']\n",
    "Cycles_windows_test = data['Cycles_windows_test']\n",
    "Units_windows_test = data['Units_windows_test']\n",
    "Current_windows_test = data['Current_windows_test']\n",
    "Cycles_windows_2_test = data['Cycles_windows_2_test']\n",
    "HI_windows_test = data['HI_windows_test']   \n",
    "Temp_windows_test = data['Temp_windows_test']\n",
    "Time_windows_test = data['Time_windows_test']"
   ]
  },
  {
   "cell_type": "code",
   "execution_count": 32,
   "metadata": {},
   "outputs": [],
   "source": [
    "Y_windows = pre_process_utils.RUL_maker(Cycles_windows,Units_windows).reshape(-1,1)\n",
    "Y_windows_test = pre_process_utils.RUL_maker(Cycles_windows_test,Units_windows_test).reshape(-1,1)\n",
    "\n",
    "#Convert to SOH%\n",
    "MANUFACTURE_CAPACITY = 2.1\n",
    "HI_windows = HI_windows/MANUFACTURE_CAPACITY\n",
    "HI_windows_test = HI_windows_test/MANUFACTURE_CAPACITY\n",
    "V_T = np.concatenate((Voltage_windows, Temp_windows), axis=-1)\n",
    "V_T_test = np.concatenate((Voltage_windows_test,Temp_windows_test),axis = -1)"
   ]
  },
  {
   "cell_type": "code",
   "execution_count": 33,
   "metadata": {},
   "outputs": [
    {
     "data": {
      "text/plain": [
       "(418317, 200, 1)"
      ]
     },
     "execution_count": 33,
     "metadata": {},
     "output_type": "execute_result"
    }
   ],
   "source": [
    "HI_windows.shape"
   ]
  },
  {
   "cell_type": "markdown",
   "metadata": {},
   "source": [
    "# BASELINE RUL"
   ]
  },
  {
   "cell_type": "code",
   "execution_count": 13,
   "metadata": {},
   "outputs": [],
   "source": [
    "def RUL_model(t=64,\n",
    "              feature_X_in=2,\n",
    "              feature_W_in=1,\n",
    "              feature_H_in=1,\n",
    "              feature_out_size=1,\n",
    "              activation='relu',\n",
    "              filter=[10,10,1],\n",
    "              filter_size=10,\n",
    "              useH=True):\n",
    "    '''\n",
    "    RUL_model: Generates a model for predicting Remaining Useful Life (RUL).\n",
    "\n",
    "    Args:\n",
    "        t (int): Time steps.\n",
    "        feature_X_in (int): Number of features in input X.\n",
    "        feature_W_in (int): Number of features in input W.\n",
    "        feature_H_in (int): Number of features in input H.\n",
    "        feature_out_size (int): Number of features in the output.\n",
    "        activation (str): Activation function to use in the hidden layers.\n",
    "        filter (list): List containing the number of filters for each convolutional layer.\n",
    "        filter_size (int): Size of the convolutional filters.\n",
    "        useH (bool): Flag indicating whether to include H as input.\n",
    "                     If True, input will be [X, W, H, T].\n",
    "                     If False, input will be [X, W, T].\n",
    "\n",
    "    Returns:\n",
    "        tf.keras.models.Model: RUL prediction model.\n",
    "\n",
    "    Note:\n",
    "        If useH is True, the model will accept input [X, W, H, T] and output Y.\n",
    "        If useH is False, the model will accept input [X, W, T] and output Y.\n",
    "    '''\n",
    "\n",
    "    # Define input layers for X, W, T, and H\n",
    "    x_in = tf.keras.layers.Input(shape=(t, feature_X_in), name=\"X_in\")\n",
    "    w_in = tf.keras.layers.Input(shape=(t, feature_W_in), name=\"W_in\")\n",
    "    t_in = tf.keras.layers.Input(shape=(t, 1), name=\"T_in\")\n",
    "    \n",
    "    # Concatenate input data based on the useH flag\n",
    "    if useH:\n",
    "        h_in = tf.keras.layers.Input(shape=(t, feature_H_in), name=\"H_in\")\n",
    "        x = tf.keras.layers.Concatenate(axis=-1)([x_in, w_in, h_in, t_in])\n",
    "    else:\n",
    "        x = tf.keras.layers.Concatenate(axis=-1)([x_in, w_in, t_in])\n",
    "      \n",
    "    # Apply convolutional layers\n",
    "    for i in filter:\n",
    "        x = tf.keras.layers.Conv1D(i, filter_size, 1, padding='same', activation=activation)(x)\n",
    "\n",
    "    # Flatten the output\n",
    "    x = tf.keras.layers.Flatten()(x)\n",
    "    \n",
    "    # Apply dense layers\n",
    "    y = tf.keras.layers.Dense(50, activation=activation)(x)\n",
    "    y = tf.keras.layers.Dense(feature_out_size, activation='linear')(y)\n",
    "\n",
    "    # Create the model with the appropriate inputs and outputs\n",
    "    if useH:\n",
    "        model = tf.keras.models.Model([x_in, w_in, t_in, h_in], y)\n",
    "    else:\n",
    "        model = tf.keras.models.Model([x_in, w_in, t_in], y)\n",
    "\n",
    "    return model\n"
   ]
  },
  {
   "cell_type": "code",
   "execution_count": 41,
   "metadata": {},
   "outputs": [],
   "source": [
    "useH=False\n",
    "layers=  [10,10,10]\n",
    "Window_size = Voltage_windows.shape[1]\n",
    "model = RUL_model(Window_size,filter = layers, useH = useH)"
   ]
  },
  {
   "cell_type": "code",
   "execution_count": 42,
   "metadata": {},
   "outputs": [],
   "source": [
    "W = Voltage_windows.shape[1]\n",
    "cycle_scaler = MinMaxScaler()\n",
    "c_temp = cycle_scaler.fit_transform(Cycles_windows.reshape(-1,1))\n",
    "c_temp = np.repeat(c_temp,W,1).reshape(-1,W,1)\n",
    "c_temp_test = cycle_scaler.transform(Cycles_windows_test.reshape(-1,1))\n",
    "c_temp_test = np.repeat(c_temp_test,W,1).reshape(-1,W,1)\n"
   ]
  },
  {
   "cell_type": "code",
   "execution_count": 43,
   "metadata": {},
   "outputs": [
    {
     "name": "stdout",
     "output_type": "stream",
     "text": [
      "RUN#:  0\n",
      "reset_weights\n",
      "Epoch 1/30\n",
      "184/184 [==============================] - 6s 18ms/step - loss: 171.7829 - val_loss: 112.2604\n",
      "Epoch 2/30\n",
      "184/184 [==============================] - 4s 19ms/step - loss: 111.5675 - val_loss: 111.4915\n",
      "Epoch 3/30\n",
      "184/184 [==============================] - 4s 18ms/step - loss: 110.8543 - val_loss: 111.0446\n",
      "Epoch 4/30\n",
      "184/184 [==============================] - 4s 17ms/step - loss: 110.4813 - val_loss: 110.7173\n",
      "Epoch 5/30\n",
      "184/184 [==============================] - 4s 17ms/step - loss: 110.2375 - val_loss: 110.4514\n",
      "Epoch 6/30\n",
      "184/184 [==============================] - 4s 17ms/step - loss: 110.1227 - val_loss: 110.5412\n",
      "Epoch 7/30\n",
      "184/184 [==============================] - 4s 18ms/step - loss: 109.9756 - val_loss: 110.2084\n",
      "Epoch 8/30\n",
      "184/184 [==============================] - 4s 17ms/step - loss: 109.8516 - val_loss: 110.1528\n",
      "Epoch 9/30\n",
      "184/184 [==============================] - 4s 17ms/step - loss: 109.7430 - val_loss: 109.9534\n",
      "Epoch 10/30\n",
      "184/184 [==============================] - 4s 18ms/step - loss: 109.4741 - val_loss: 109.9566\n",
      "Epoch 11/30\n",
      "184/184 [==============================] - 4s 17ms/step - loss: 109.4702 - val_loss: 109.6683\n",
      "Epoch 12/30\n",
      "184/184 [==============================] - 4s 18ms/step - loss: 109.2975 - val_loss: 109.6017\n",
      "Epoch 13/30\n",
      "184/184 [==============================] - 4s 17ms/step - loss: 109.2675 - val_loss: 109.5275\n",
      "Epoch 14/30\n",
      "184/184 [==============================] - 4s 17ms/step - loss: 109.1702 - val_loss: 109.5754\n",
      "Epoch 15/30\n",
      "184/184 [==============================] - 4s 18ms/step - loss: 109.0596 - val_loss: 109.3688\n",
      "Epoch 16/30\n",
      "184/184 [==============================] - 4s 17ms/step - loss: 109.0154 - val_loss: 109.2789\n",
      "Epoch 17/30\n",
      "184/184 [==============================] - 4s 18ms/step - loss: 108.9522 - val_loss: 109.2175\n",
      "Epoch 18/30\n",
      "184/184 [==============================] - 4s 19ms/step - loss: 108.7553 - val_loss: 108.9695\n",
      "Epoch 19/30\n",
      "184/184 [==============================] - 4s 17ms/step - loss: 108.5034 - val_loss: 108.8666\n",
      "Epoch 20/30\n",
      "184/184 [==============================] - 4s 17ms/step - loss: 108.0360 - val_loss: 107.9515\n",
      "Epoch 21/30\n",
      "184/184 [==============================] - 4s 17ms/step - loss: 107.1187 - val_loss: 106.8057\n",
      "Epoch 22/30\n",
      "184/184 [==============================] - 4s 19ms/step - loss: 105.7722 - val_loss: 105.2416\n",
      "Epoch 23/30\n",
      "184/184 [==============================] - 4s 17ms/step - loss: 103.1922 - val_loss: 102.4594\n",
      "Epoch 24/30\n",
      "184/184 [==============================] - 4s 17ms/step - loss: 101.0210 - val_loss: 100.2670\n",
      "Epoch 25/30\n",
      "184/184 [==============================] - 4s 18ms/step - loss: 99.9476 - val_loss: 99.3270\n",
      "Epoch 26/30\n",
      "184/184 [==============================] - 4s 17ms/step - loss: 98.5600 - val_loss: 97.7831\n",
      "Epoch 27/30\n",
      "184/184 [==============================] - 4s 17ms/step - loss: 97.0505 - val_loss: 96.6248\n",
      "Epoch 28/30\n",
      "184/184 [==============================] - 4s 18ms/step - loss: 96.4043 - val_loss: 96.4801\n",
      "Epoch 29/30\n",
      "184/184 [==============================] - 4s 19ms/step - loss: 96.1399 - val_loss: 96.1622\n",
      "Epoch 30/30\n",
      "184/184 [==============================] - 4s 17ms/step - loss: 95.9281 - val_loss: 96.9194\n",
      "21/21 [==============================] - 0s 9ms/step\n",
      "74/74 [==============================] - 2s 11ms/step\n",
      "{'MAE_TR': [197.41343140302843], 'MAPE_TR': [244.33919174068427], 'RMSE_TR': [239.1343341809712], 'MAE_TS': [146.7035448560528], 'MAPE_TS': [226.25845073518386], 'RMSE_TS': [170.80869058209768], 'TIME': [136.6259274482727], 'I': [0]}\n"
     ]
    }
   ],
   "source": [
    "result = eval_utils.train_and_evaluate_rul_model(V_T, Current_windows,c_temp, Cycles_windows, Units_windows, Y_windows,HI_windows,\n",
    "                                                     V_T_test, Current_windows_test, c_temp_test,Cycles_windows_test, Units_windows_test, Y_windows_test,HI_windows_test,\n",
    "                                             model,useH=False,runs = 1, epochs = 30, batch_size=2048,learning_rate = 0.001,reset_weights = True)"
   ]
  },
  {
   "cell_type": "code",
   "execution_count": 44,
   "metadata": {},
   "outputs": [
    {
     "data": {
      "text/html": [
       "<div>\n",
       "<style scoped>\n",
       "    .dataframe tbody tr th:only-of-type {\n",
       "        vertical-align: middle;\n",
       "    }\n",
       "\n",
       "    .dataframe tbody tr th {\n",
       "        vertical-align: top;\n",
       "    }\n",
       "\n",
       "    .dataframe thead th {\n",
       "        text-align: right;\n",
       "    }\n",
       "</style>\n",
       "<table border=\"1\" class=\"dataframe\">\n",
       "  <thead>\n",
       "    <tr style=\"text-align: right;\">\n",
       "      <th></th>\n",
       "      <th>MAE_TR</th>\n",
       "      <th>MAPE_TR</th>\n",
       "      <th>RMSE_TR</th>\n",
       "      <th>MAE_TS</th>\n",
       "      <th>MAPE_TS</th>\n",
       "      <th>RMSE_TS</th>\n",
       "      <th>TIME</th>\n",
       "      <th>I</th>\n",
       "    </tr>\n",
       "  </thead>\n",
       "  <tbody>\n",
       "    <tr>\n",
       "      <th>0</th>\n",
       "      <td>197.413431</td>\n",
       "      <td>244.339192</td>\n",
       "      <td>239.134334</td>\n",
       "      <td>146.703545</td>\n",
       "      <td>226.258451</td>\n",
       "      <td>170.808691</td>\n",
       "      <td>136.625927</td>\n",
       "      <td>0</td>\n",
       "    </tr>\n",
       "  </tbody>\n",
       "</table>\n",
       "</div>"
      ],
      "text/plain": [
       "       MAE_TR     MAPE_TR     RMSE_TR      MAE_TS     MAPE_TS     RMSE_TS  \\\n",
       "0  197.413431  244.339192  239.134334  146.703545  226.258451  170.808691   \n",
       "\n",
       "         TIME  I  \n",
       "0  136.625927  0  "
      ]
     },
     "execution_count": 44,
     "metadata": {},
     "output_type": "execute_result"
    }
   ],
   "source": [
    "pd.DataFrame(result)"
   ]
  },
  {
   "cell_type": "markdown",
   "metadata": {},
   "source": [
    "# GT RUL"
   ]
  },
  {
   "cell_type": "code",
   "execution_count": 28,
   "metadata": {},
   "outputs": [],
   "source": [
    "useH=True\n",
    "layers=  [10,10,10]\n",
    "Window_size = Voltage_windows.shape[1]\n",
    "model = RUL_model(Window_size,filter = layers, useH = useH)"
   ]
  },
  {
   "cell_type": "code",
   "execution_count": 29,
   "metadata": {},
   "outputs": [],
   "source": [
    "W = Voltage_windows.shape[1]\n",
    "cycle_scaler = MinMaxScaler()\n",
    "c_temp = cycle_scaler.fit_transform(Cycles_windows.reshape(-1,1))\n",
    "c_temp = np.repeat(c_temp,W,1).reshape(-1,W,1)\n",
    "c_temp_test = cycle_scaler.transform(Cycles_windows_test.reshape(-1,1))\n",
    "c_temp_test = np.repeat(c_temp_test,W,1).reshape(-1,W,1)\n"
   ]
  },
  {
   "cell_type": "code",
   "execution_count": 34,
   "metadata": {},
   "outputs": [
    {
     "name": "stdout",
     "output_type": "stream",
     "text": [
      "RUN#:  0\n",
      "reset_weights\n",
      "Epoch 1/30\n",
      "184/184 [==============================] - 8s 27ms/step - loss: 161.2007 - val_loss: 104.2104\n",
      "Epoch 2/30\n",
      "184/184 [==============================] - 5s 25ms/step - loss: 98.4484 - val_loss: 88.2758\n",
      "Epoch 3/30\n",
      "184/184 [==============================] - 5s 24ms/step - loss: 78.7570 - val_loss: 72.8866\n",
      "Epoch 4/30\n",
      "184/184 [==============================] - 5s 23ms/step - loss: 67.9221 - val_loss: 64.9281\n",
      "Epoch 5/30\n",
      "184/184 [==============================] - 5s 24ms/step - loss: 64.4527 - val_loss: 62.6063\n",
      "Epoch 6/30\n",
      "184/184 [==============================] - 5s 23ms/step - loss: 64.1789 - val_loss: 67.3980\n",
      "Epoch 7/30\n",
      "184/184 [==============================] - 5s 23ms/step - loss: 62.1697 - val_loss: 63.1665\n",
      "Epoch 8/30\n",
      "184/184 [==============================] - 5s 23ms/step - loss: 61.3746 - val_loss: 62.7764\n",
      "Epoch 9/30\n",
      "184/184 [==============================] - 5s 23ms/step - loss: 60.4745 - val_loss: 58.7053\n",
      "Epoch 10/30\n",
      "184/184 [==============================] - 5s 23ms/step - loss: 59.5540 - val_loss: 59.3389\n",
      "Epoch 11/30\n",
      "184/184 [==============================] - 5s 22ms/step - loss: 58.7810 - val_loss: 65.6065\n",
      "Epoch 12/30\n",
      "184/184 [==============================] - 5s 22ms/step - loss: 58.6388 - val_loss: 56.3728\n",
      "Epoch 13/30\n",
      "184/184 [==============================] - 5s 23ms/step - loss: 57.8321 - val_loss: 58.0672\n",
      "Epoch 14/30\n",
      "184/184 [==============================] - 5s 23ms/step - loss: 57.5132 - val_loss: 55.6545\n",
      "Epoch 15/30\n",
      "184/184 [==============================] - 5s 22ms/step - loss: 56.6640 - val_loss: 55.6408\n",
      "Epoch 16/30\n",
      "184/184 [==============================] - 5s 23ms/step - loss: 56.3398 - val_loss: 54.5584\n",
      "Epoch 17/30\n",
      "184/184 [==============================] - 5s 23ms/step - loss: 56.5128 - val_loss: 54.4173\n",
      "Epoch 18/30\n",
      "184/184 [==============================] - 5s 22ms/step - loss: 55.4480 - val_loss: 54.1694\n",
      "Epoch 19/30\n",
      "184/184 [==============================] - 5s 24ms/step - loss: 55.4504 - val_loss: 54.6561\n",
      "Epoch 20/30\n",
      "184/184 [==============================] - 5s 23ms/step - loss: 54.8210 - val_loss: 53.6523\n",
      "Epoch 21/30\n",
      "184/184 [==============================] - 5s 22ms/step - loss: 55.1283 - val_loss: 63.3949\n",
      "Epoch 22/30\n",
      "184/184 [==============================] - 5s 22ms/step - loss: 54.5350 - val_loss: 52.8795\n",
      "Epoch 23/30\n",
      "184/184 [==============================] - 5s 22ms/step - loss: 54.4064 - val_loss: 55.3937\n",
      "Epoch 24/30\n",
      "184/184 [==============================] - 5s 22ms/step - loss: 54.1395 - val_loss: 52.4307\n",
      "Epoch 25/30\n",
      "184/184 [==============================] - 5s 22ms/step - loss: 53.7134 - val_loss: 53.3526\n",
      "Epoch 26/30\n",
      "184/184 [==============================] - 5s 24ms/step - loss: 53.7217 - val_loss: 56.5277\n",
      "Epoch 27/30\n",
      "184/184 [==============================] - 5s 22ms/step - loss: 53.3138 - val_loss: 51.4686\n",
      "Epoch 28/30\n",
      "184/184 [==============================] - 5s 22ms/step - loss: 52.6474 - val_loss: 51.6237\n",
      "Epoch 29/30\n",
      "184/184 [==============================] - 5s 23ms/step - loss: 52.3432 - val_loss: 51.5384\n",
      "Epoch 30/30\n",
      "184/184 [==============================] - 5s 22ms/step - loss: 52.8187 - val_loss: 50.7198\n",
      "21/21 [==============================] - 0s 10ms/step\n",
      "74/74 [==============================] - 2s 13ms/step\n",
      "{'MAE_TR': [207.12815017306156], 'MAPE_TR': [290.03166594238076], 'RMSE_TR': [253.68306197973095], 'MAE_TS': [104.92520662392926], 'MAPE_TS': [73.75990587082028], 'RMSE_TS': [125.79105397561813], 'TIME': [168.25744199752808], 'I': [0]}\n"
     ]
    }
   ],
   "source": [
    "result = eval_utils.train_and_evaluate_rul_model(V_T, Current_windows,c_temp, Cycles_windows, Units_windows, Y_windows,HI_windows,\n",
    "                                                     V_T_test, Current_windows_test, c_temp_test,Cycles_windows_test, Units_windows_test, Y_windows_test,HI_windows_test,\n",
    "                                             model,useH=True,runs = 1, epochs = 30, batch_size=2048,learning_rate = 0.001,reset_weights = False)"
   ]
  },
  {
   "cell_type": "code",
   "execution_count": 35,
   "metadata": {},
   "outputs": [
    {
     "data": {
      "text/html": [
       "<div>\n",
       "<style scoped>\n",
       "    .dataframe tbody tr th:only-of-type {\n",
       "        vertical-align: middle;\n",
       "    }\n",
       "\n",
       "    .dataframe tbody tr th {\n",
       "        vertical-align: top;\n",
       "    }\n",
       "\n",
       "    .dataframe thead th {\n",
       "        text-align: right;\n",
       "    }\n",
       "</style>\n",
       "<table border=\"1\" class=\"dataframe\">\n",
       "  <thead>\n",
       "    <tr style=\"text-align: right;\">\n",
       "      <th></th>\n",
       "      <th>MAE_TR</th>\n",
       "      <th>MAPE_TR</th>\n",
       "      <th>RMSE_TR</th>\n",
       "      <th>MAE_TS</th>\n",
       "      <th>MAPE_TS</th>\n",
       "      <th>RMSE_TS</th>\n",
       "      <th>TIME</th>\n",
       "      <th>I</th>\n",
       "    </tr>\n",
       "  </thead>\n",
       "  <tbody>\n",
       "    <tr>\n",
       "      <th>0</th>\n",
       "      <td>207.12815</td>\n",
       "      <td>290.031666</td>\n",
       "      <td>253.683062</td>\n",
       "      <td>104.925207</td>\n",
       "      <td>73.759906</td>\n",
       "      <td>125.791054</td>\n",
       "      <td>168.257442</td>\n",
       "      <td>0</td>\n",
       "    </tr>\n",
       "  </tbody>\n",
       "</table>\n",
       "</div>"
      ],
      "text/plain": [
       "      MAE_TR     MAPE_TR     RMSE_TR      MAE_TS    MAPE_TS     RMSE_TS  \\\n",
       "0  207.12815  290.031666  253.683062  104.925207  73.759906  125.791054   \n",
       "\n",
       "         TIME  I  \n",
       "0  168.257442  0  "
      ]
     },
     "execution_count": 35,
     "metadata": {},
     "output_type": "execute_result"
    }
   ],
   "source": [
    "pd.DataFrame(result)"
   ]
  }
 ],
 "metadata": {
  "kernelspec": {
   "display_name": "Python 3 (ipykernel)",
   "language": "python",
   "name": "python3"
  },
  "language_info": {
   "codemirror_mode": {
    "name": "ipython",
    "version": 3
   },
   "file_extension": ".py",
   "mimetype": "text/x-python",
   "name": "python",
   "nbconvert_exporter": "python",
   "pygments_lexer": "ipython3",
   "version": "3.8.10"
  }
 },
 "nbformat": 4,
 "nbformat_minor": 2
}
