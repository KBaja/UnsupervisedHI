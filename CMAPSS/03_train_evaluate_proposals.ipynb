{
 "cells": [
  {
   "cell_type": "code",
   "execution_count": 1,
   "metadata": {},
   "outputs": [
    {
     "name": "stdout",
     "output_type": "stream",
     "text": [
      "Collecting tables==3.7.0\n",
      "  Downloading tables-3.7.0-cp38-cp38-manylinux_2_17_x86_64.manylinux2014_x86_64.whl (5.9 MB)\n",
      "\u001b[K     |████████████████████████████████| 5.9 MB 6.1 MB/s eta 0:00:01\n",
      "\u001b[?25hRequirement already satisfied: packaging in /usr/local/lib/python3.8/dist-packages (from tables==3.7.0) (21.3)\n",
      "Requirement already satisfied: numpy>=1.19.0 in /usr/local/lib/python3.8/dist-packages (from tables==3.7.0) (1.23.4)\n",
      "Collecting numexpr>=2.6.2\n",
      "  Downloading numexpr-2.8.6-cp38-cp38-manylinux_2_17_x86_64.manylinux2014_x86_64.whl (384 kB)\n",
      "\u001b[K     |████████████████████████████████| 384 kB 56.6 MB/s eta 0:00:01\n",
      "\u001b[?25hRequirement already satisfied: pyparsing!=3.0.5,>=2.0.2 in /usr/local/lib/python3.8/dist-packages (from packaging->tables==3.7.0) (3.0.9)\n",
      "Installing collected packages: numexpr, tables\n",
      "Successfully installed numexpr-2.8.6 tables-3.7.0\n",
      "\u001b[33mWARNING: You are using pip version 20.2.4; however, version 24.0 is available.\n",
      "You should consider upgrading via the '/usr/bin/python3 -m pip install --upgrade pip' command.\u001b[0m\n"
     ]
    }
   ],
   "source": [
    "!pip install tables==3.7.0"
   ]
  },
  {
   "cell_type": "code",
   "execution_count": 2,
   "metadata": {},
   "outputs": [
    {
     "name": "stderr",
     "output_type": "stream",
     "text": [
      "2024-05-01 08:56:04.796442: I tensorflow/core/platform/cpu_feature_guard.cc:193] This TensorFlow binary is optimized with oneAPI Deep Neural Network Library (oneDNN) to use the following CPU instructions in performance-critical operations:  AVX2 AVX512F FMA\n",
      "To enable them in other operations, rebuild TensorFlow with the appropriate compiler flags.\n"
     ]
    }
   ],
   "source": [
    "import sys\n",
    "sys.path.insert(1, 'CMAPSS')\n",
    "import eval_utils\n",
    "import numpy as np\n",
    "import pandas as pd\n",
    "\n",
    "import tensorflow as tf\n",
    "from tensorflow import keras\n",
    "\n",
    "from sklearn.decomposition import PCA\n",
    "from sklearn.preprocessing import MinMaxScaler\n",
    "\n",
    "import matplotlib.pyplot as plt\n",
    "from matplotlib import gridspec\n",
    "params = {'legend.fontsize': 20,\n",
    "          'figure.figsize': (9,6),\n",
    "         'axes.labelsize': 20,\n",
    "         'axes.titlesize':20,\n",
    "         'xtick.labelsize':'xx-large',\n",
    "         'axes.linewidth' : 2,\n",
    "         'ytick.labelsize':'xx-large'}\n",
    "\n",
    "plt.rcParams.update(params)"
   ]
  },
  {
   "cell_type": "code",
   "execution_count": 3,
   "metadata": {},
   "outputs": [
    {
     "data": {
      "text/plain": [
       "<module 'eval_utils' from '/baja/CMAPSS_GITHUB/eval_utils.py'>"
      ]
     },
     "execution_count": 3,
     "metadata": {},
     "output_type": "execute_result"
    }
   ],
   "source": [
    "import importlib\n",
    "importlib.reload(eval_utils)"
   ]
  },
  {
   "cell_type": "markdown",
   "metadata": {},
   "source": [
    "# Load Data"
   ]
  },
  {
   "cell_type": "code",
   "execution_count": 4,
   "metadata": {},
   "outputs": [
    {
     "name": "stdout",
     "output_type": "stream",
     "text": [
      "(663, 2030, 14) (438, 2030, 14)\n"
     ]
    }
   ],
   "source": [
    "# Load data partial window\n",
    "PATH_IN = 'Data/N-CMAPSS'\n",
    "\n",
    "# Load training data\n",
    "X_windows = np.load(PATH_IN + '/X_windows.npy')\n",
    "U_windows = np.load(PATH_IN + '/U_windows.npy')\n",
    "C_windows = np.load(PATH_IN + '/C_windows.npy')\n",
    "W_windows = np.load(PATH_IN + '/W_windows.npy')\n",
    "Y_windows = np.load(PATH_IN + '/Y_windows.npy')\n",
    "\n",
    "# Load testing data\n",
    "X_windows_test = np.load(PATH_IN + '/X_windows_test.npy')\n",
    "U_windows_test = np.load(PATH_IN + '/U_windows_test.npy')\n",
    "C_windows_test = np.load(PATH_IN + '/C_windows_test.npy')\n",
    "W_windows_test = np.load(PATH_IN + '/W_windows_test.npy')\n",
    "Y_windows_test = np.load(PATH_IN + '/Y_windows_test.npy')\n",
    "\n",
    "print(X_windows.shape, X_windows_test.shape)"
   ]
  },
  {
   "cell_type": "code",
   "execution_count": 5,
   "metadata": {},
   "outputs": [
    {
     "name": "stdout",
     "output_type": "stream",
     "text": [
      "(663, 1) (438, 1)\n"
     ]
    }
   ],
   "source": [
    "# Ground Truth HI\n",
    "PATH_IN = 'Data/N-CMAPSS'\n",
    "SOURCE = 'N-CMAPSS_DS03'\n",
    "\n",
    "ground_truth = pd.read_hdf(PATH_IN + \"/\" + SOURCE+'_cycle_test.h5', 'df')\n",
    "ground_truth2 = pd.read_hdf(PATH_IN + \"/\" + SOURCE+'_cycle_dev.h5', 'df')\n",
    "\n",
    "ground_truth = pd.concat([ground_truth,ground_truth2]).sort_values('unit').sort_index()\n",
    "\n",
    "\n",
    "g_units = ground_truth.unit.values\n",
    "g_his = ground_truth.HI.values\n",
    "\n",
    "g_cycles = []\n",
    "_, s_idx = np.unique(g_units, return_index=True)\n",
    "for i in g_units[np.sort(s_idx)]:\n",
    "    idx = np.ravel(g_units==i)\n",
    "    g_cycles.extend(np.arange(idx.sum())+1)\n",
    "g_cycles = np.array(g_cycles)\n",
    "\n",
    "train_idx = np.ravel(np.isin(g_units,[np.unique(U_windows)]))\n",
    "true_hi_train = g_his[train_idx].reshape(-1,1)\n",
    "true_hi_cycles = g_cycles[train_idx]\n",
    "true_hi_units = g_units[train_idx]\n",
    "\n",
    "\n",
    "test_idx = np.ravel(np.isin(g_units,[np.unique(U_windows_test)]))\n",
    "true_hi_test = g_his[test_idx].reshape(-1,1)\n",
    "true_hi_cycles_test = g_cycles[test_idx]\n",
    "true_hi_units_test = g_units[test_idx]\n",
    "print(true_hi_train.shape, true_hi_test.shape)"
   ]
  },
  {
   "cell_type": "markdown",
   "metadata": {},
   "source": [
    "# Ground Truth HI evaluation"
   ]
  },
  {
   "cell_type": "code",
   "execution_count": 6,
   "metadata": {},
   "outputs": [
    {
     "data": {
      "text/html": [
       "<div>\n",
       "<style scoped>\n",
       "    .dataframe tbody tr th:only-of-type {\n",
       "        vertical-align: middle;\n",
       "    }\n",
       "\n",
       "    .dataframe tbody tr th {\n",
       "        vertical-align: top;\n",
       "    }\n",
       "\n",
       "    .dataframe thead th {\n",
       "        text-align: right;\n",
       "    }\n",
       "</style>\n",
       "<table border=\"1\" class=\"dataframe\">\n",
       "  <thead>\n",
       "    <tr style=\"text-align: right;\">\n",
       "      <th></th>\n",
       "      <th>MAE_TR</th>\n",
       "      <th>MAPE_TR</th>\n",
       "      <th>M_TR</th>\n",
       "      <th>T_TR</th>\n",
       "      <th>FC_TR</th>\n",
       "      <th>MI_TR</th>\n",
       "      <th>MAE_TS</th>\n",
       "      <th>MAPE_TS</th>\n",
       "      <th>M_TS</th>\n",
       "      <th>T_TS</th>\n",
       "      <th>FC_TS</th>\n",
       "      <th>MI_TS</th>\n",
       "      <th>TIME</th>\n",
       "      <th>I</th>\n",
       "    </tr>\n",
       "  </thead>\n",
       "  <tbody>\n",
       "    <tr>\n",
       "      <th>0</th>\n",
       "      <td>-</td>\n",
       "      <td>-</td>\n",
       "      <td>0.492105</td>\n",
       "      <td>0.992803</td>\n",
       "      <td>1.0</td>\n",
       "      <td>0.838808</td>\n",
       "      <td>-</td>\n",
       "      <td>-</td>\n",
       "      <td>0.504344</td>\n",
       "      <td>0.991013</td>\n",
       "      <td>1.0</td>\n",
       "      <td>0.842728</td>\n",
       "      <td>0</td>\n",
       "      <td>0</td>\n",
       "    </tr>\n",
       "  </tbody>\n",
       "</table>\n",
       "</div>"
      ],
      "text/plain": [
       "  MAE_TR MAPE_TR      M_TR      T_TR  FC_TR     MI_TR MAE_TS MAPE_TS  \\\n",
       "0      -       -  0.492105  0.992803    1.0  0.838808      -       -   \n",
       "\n",
       "       M_TS      T_TS  FC_TS     MI_TS  TIME  I  \n",
       "0  0.504344  0.991013    1.0  0.842728     0  0  "
      ]
     },
     "execution_count": 6,
     "metadata": {},
     "output_type": "execute_result"
    }
   ],
   "source": [
    "results = eval_utils.init_hi_result_dict()\n",
    "\n",
    "        \n",
    "results['MAPE_TR'].append('-')\n",
    "results['MAE_TR'].append('-')\n",
    "\n",
    "results['M_TR'].append(eval_utils.monotonicity(true_hi_train,true_hi_units))\n",
    "results['T_TR'].append(eval_utils.trend_spearman(true_hi_train,true_hi_cycles,true_hi_units))\n",
    "results['FC_TR'].append(eval_utils.failure_consistency(true_hi_train,true_hi_units))\n",
    "results['MI_TR'].append(eval_utils.mutual_information(true_hi_train.reshape(-1,1),Y_windows[:,0,:].reshape(-1,1),true_hi_units))\n",
    "\n",
    "results['MAPE_TS'].append('-')\n",
    "results['MAE_TS'].append('-')\n",
    "results['M_TS'].append(eval_utils.monotonicity(true_hi_test,true_hi_units_test))\n",
    "results['T_TS'].append(eval_utils.trend_spearman(true_hi_test,true_hi_cycles_test,true_hi_units_test))\n",
    "results['FC_TS'].append(eval_utils.failure_consistency(true_hi_test,true_hi_units_test))\n",
    "results['MI_TS'].append(eval_utils.mutual_information(true_hi_test.reshape(-1,1),Y_windows_test[:,0,:].reshape(-1,1),true_hi_units_test))\n",
    "results['I'].append(0)\n",
    "results['TIME'].append(0)\n",
    "pd.DataFrame(results)"
   ]
  },
  {
   "cell_type": "markdown",
   "metadata": {},
   "source": [
    "# Proposed Model"
   ]
  },
  {
   "cell_type": "code",
   "execution_count": 7,
   "metadata": {},
   "outputs": [],
   "source": [
    "class C_constraint(tf.keras.layers.Layer):   # Inheritance class\n",
    "    def __init__(self,alpha,**kwargs):  \n",
    "        super().__init__(**kwargs)\n",
    "        self.alpha = alpha\n",
    "        \n",
    "    def call(self, inputdata):\n",
    "        x, t = inputdata\n",
    "        x_mu = tf.reduce_mean(x)\n",
    "        t_mu = tf.reduce_mean(t)\n",
    "        cov = tf.reduce_sum((x-x_mu)*(t-t_mu))\n",
    "        std = tf.math.pow(tf.reduce_sum((x-x_mu)**2),0.5) * tf.math.pow(tf.reduce_sum((t-t_mu)**2),0.5)\n",
    "        loss = cov/std\n",
    "        loss = tf.reduce_mean(loss)\n",
    "        \n",
    "        self.add_loss(self.alpha*loss)\n",
    "        self.add_metric(loss, aggregation='mean', name='l1')\n",
    "        return x\n",
    "    \n",
    "class NG_constraint(tf.keras.layers.Layer):   # Inheritance class\n",
    "    def __init__(self,alpha,**kwargs):  \n",
    "        super().__init__(**kwargs)\n",
    "        self.alpha = alpha\n",
    "        \n",
    "    def call(self, inputdata):\n",
    "        x,t = inputdata\n",
    "        x_diff = x[1:]-x[:-1]\n",
    "        t_diff = t[1:]-t[:-1]\n",
    "        grad = x_diff/t_diff\n",
    "        loss = tf.reduce_sum(tf.math.maximum(tf.constant(0.0),grad))\n",
    "        self.add_loss(self.alpha*loss)\n",
    "        self.add_metric(loss, aggregation='mean', name='Grad')\n",
    "\n",
    "        return x\n",
    "    \n",
    "class F_constraint(tf.keras.layers.Layer):   # Inheritance class\n",
    "    def __init__(self,alpha,**kwargs):  \n",
    "        super().__init__(**kwargs)\n",
    "        self.alpha = alpha\n",
    "        \n",
    "        self.A = 0.012\n",
    "        self.B = 4.95\n",
    "        self.C = 0.89\n",
    "        self.BETA = 6.7\n",
    "        self.P = 0.5\n",
    "        \n",
    "    def call(self, inputdata):\n",
    "        x, t = inputdata\n",
    "        HI = self.C - ((t * (-np.log(1 - self.P))**(-1/self.BETA))*self.A)**self.B\n",
    "        mask = tf.math.less(HI,0)\n",
    "        HI = tf.where(mask,0.0,HI)\n",
    "        loss = tf.reduce_mean(tf.abs(x-HI))\n",
    "        \n",
    "        self.add_loss(self.alpha*loss)\n",
    "        self.add_metric(loss, aggregation='mean', name='l1')\n",
    "        return x\n",
    "    \n",
    "def H_index_Proposal_CNN(latent_dims,Window_size = 100,z_size=1,cnn_dim = 85,stride = 1,alpha = 1,constraint = 'C'):\n",
    "    \n",
    "    x_dim = 14\n",
    "    w_dim = 4\n",
    "    \n",
    "    inpX = tf.keras.layers.Input(shape=(Window_size,x_dim),name = 'InpX')\n",
    "    inputT = tf.keras.layers.Input(shape=(1,),name = 'inpT')\n",
    "    inpW = tf.keras.layers.Input(shape=(Window_size,w_dim),name = 'inpW')\n",
    "    x = inpX\n",
    "    w_in = inpW\n",
    "    \n",
    "    for i in latent_dims:\n",
    "        x=tf.keras.layers.Conv1D(i,cnn_dim,stride,activation='relu',padding = 'same')(x)\n",
    "\n",
    "    x = tf.keras.layers.Flatten(name = 'flatten')(x)\n",
    "    x = tf.keras.layers.Dense(z_size,name=\"Z\")(x) #activity_regularizer=regularizers.l1(10e-5)\n",
    "    \n",
    "    if constraint == 'C':\n",
    "        x = C_constraint(alpha, name='constrained')([x, inputT])\n",
    "    elif constraint == 'NG':\n",
    "        x = tf.keras.layers.Lambda(lambda x: tf.math.l2_normalize(x), name='Z_after')(x)\n",
    "        x = NG_constraint(alpha, name='constrained')([x, inputT])\n",
    "    elif constraint == 'F':\n",
    "        x = F_constraint(alpha, name='constrained')([x, inputT])\n",
    "    else:\n",
    "        raise ValueError(\"Invalid constraint type. Must be 'C', 'NG', or 'F'\") \n",
    "    \n",
    "    x = tf.keras.layers.RepeatVector(Window_size,name='repeat')(x)\n",
    "    \n",
    "    x = tf.keras.layers.Concatenate(axis  =-1)([x,w_in])\n",
    "    for i in reversed(latent_dims):\n",
    "        x = tf.keras.layers.Conv1D(i,cnn_dim,strides=1,activation='relu',padding = 'same')(x)\n",
    "    x=tf.keras.layers.Dense(x_dim,name='X')(x)   \n",
    "       \n",
    "    model = tf.keras.models.Model([inpX,inputT,inpW],x)\n",
    "    return model"
   ]
  },
  {
   "cell_type": "code",
   "execution_count": 19,
   "metadata": {},
   "outputs": [],
   "source": [
    "constraint = 'C'\n",
    "layers=  [128,64,32,16]\n",
    "Window_size = X_windows.shape[1]\n",
    "model = H_index_Proposal_CNN(layers,Window_size,constraint = constraint)"
   ]
  },
  {
   "cell_type": "code",
   "execution_count": 20,
   "metadata": {},
   "outputs": [
    {
     "name": "stdout",
     "output_type": "stream",
     "text": [
      "RUN#:  0\n",
      "Epoch 1/50\n",
      "34/34 [==============================] - 7s 80ms/step - loss: 0.1505 - mae: 0.0843 - l1: 0.0861\n",
      "Epoch 2/50\n",
      "34/34 [==============================] - 3s 79ms/step - loss: 0.0572 - mae: 0.0412 - l1: 0.0372\n",
      "Epoch 3/50\n",
      "34/34 [==============================] - 3s 79ms/step - loss: 0.0225 - mae: 0.0274 - l1: 0.0167\n",
      "Epoch 4/50\n",
      "34/34 [==============================] - 3s 80ms/step - loss: -0.0382 - mae: 0.0272 - l1: -0.0422\n",
      "Epoch 5/50\n",
      "34/34 [==============================] - 3s 87ms/step - loss: -0.0791 - mae: 0.0194 - l1: -0.0745\n",
      "Epoch 6/50\n",
      "34/34 [==============================] - 3s 80ms/step - loss: -0.0668 - mae: 0.0207 - l1: -0.0638\n",
      "Epoch 7/50\n",
      "34/34 [==============================] - 3s 81ms/step - loss: -0.0936 - mae: 0.0219 - l1: -0.0910\n",
      "Epoch 8/50\n",
      "34/34 [==============================] - 3s 79ms/step - loss: -0.0778 - mae: 0.0197 - l1: -0.0734\n",
      "Epoch 9/50\n",
      "34/34 [==============================] - 3s 80ms/step - loss: -0.1130 - mae: 0.0163 - l1: -0.1044\n",
      "Epoch 10/50\n",
      "34/34 [==============================] - 3s 81ms/step - loss: -0.1612 - mae: 0.0138 - l1: -0.1489\n",
      "Epoch 11/50\n",
      "34/34 [==============================] - 3s 80ms/step - loss: -0.2083 - mae: 0.0145 - l1: -0.1957\n",
      "Epoch 12/50\n",
      "34/34 [==============================] - 3s 82ms/step - loss: -0.1052 - mae: 0.0248 - l1: -0.1510\n",
      "Epoch 13/50\n",
      "34/34 [==============================] - 3s 82ms/step - loss: -0.2871 - mae: 0.0204 - l1: -0.3217\n",
      "Epoch 14/50\n",
      "34/34 [==============================] - 3s 86ms/step - loss: -0.2491 - mae: 0.0419 - l1: -0.2782\n",
      "Epoch 15/50\n",
      "34/34 [==============================] - 3s 80ms/step - loss: -0.2360 - mae: 0.0289 - l1: -0.2800\n",
      "Epoch 16/50\n",
      "34/34 [==============================] - 3s 80ms/step - loss: -0.4447 - mae: 0.0237 - l1: -0.4803\n",
      "Epoch 17/50\n",
      "34/34 [==============================] - 3s 80ms/step - loss: -0.6102 - mae: 0.0221 - l1: -0.6414\n",
      "Epoch 18/50\n",
      "34/34 [==============================] - 3s 80ms/step - loss: -0.6142 - mae: 0.0258 - l1: -0.6476\n",
      "Epoch 19/50\n",
      "34/34 [==============================] - 3s 79ms/step - loss: -0.6067 - mae: 0.0230 - l1: -0.6112\n",
      "Epoch 20/50\n",
      "34/34 [==============================] - 3s 92ms/step - loss: -0.7178 - mae: 0.0233 - l1: -0.7461\n",
      "Epoch 21/50\n",
      "34/34 [==============================] - 3s 81ms/step - loss: -0.6757 - mae: 0.0161 - l1: -0.6930\n",
      "Epoch 22/50\n",
      "34/34 [==============================] - 3s 80ms/step - loss: -0.7384 - mae: 0.0172 - l1: -0.7616\n",
      "Epoch 23/50\n",
      "34/34 [==============================] - 3s 80ms/step - loss: -0.7277 - mae: 0.0207 - l1: -0.7547\n",
      "Epoch 24/50\n",
      "34/34 [==============================] - 3s 80ms/step - loss: -0.7527 - mae: 0.0171 - l1: -0.7756\n",
      "Epoch 25/50\n",
      "34/34 [==============================] - 3s 83ms/step - loss: -0.7470 - mae: 0.0174 - l1: -0.7702\n",
      "Epoch 26/50\n",
      "34/34 [==============================] - 3s 83ms/step - loss: -0.5602 - mae: 0.0258 - l1: -0.5962\n",
      "Epoch 27/50\n",
      "34/34 [==============================] - 3s 81ms/step - loss: -0.7088 - mae: 0.0152 - l1: -0.7267\n",
      "Epoch 28/50\n",
      "34/34 [==============================] - 3s 80ms/step - loss: -0.6845 - mae: 0.0264 - l1: -0.7180\n",
      "Epoch 29/50\n",
      "34/34 [==============================] - 3s 80ms/step - loss: -0.7795 - mae: 0.0245 - l1: -0.8089\n",
      "Epoch 30/50\n",
      "34/34 [==============================] - 3s 80ms/step - loss: -0.7683 - mae: 0.0241 - l1: -0.7976\n",
      "Epoch 31/50\n",
      "34/34 [==============================] - 3s 80ms/step - loss: -0.7702 - mae: 0.0228 - l1: -0.7981\n",
      "Epoch 32/50\n",
      "34/34 [==============================] - 3s 80ms/step - loss: -0.8365 - mae: 0.0181 - l1: -0.8583\n",
      "Epoch 33/50\n",
      "34/34 [==============================] - 3s 80ms/step - loss: -0.8408 - mae: 0.0159 - l1: -0.8602\n",
      "Epoch 34/50\n",
      "34/34 [==============================] - 3s 83ms/step - loss: -0.8092 - mae: 0.0168 - l1: -0.8303\n",
      "Epoch 35/50\n",
      "34/34 [==============================] - 3s 80ms/step - loss: -0.8041 - mae: 0.0282 - l1: -0.8364\n",
      "Epoch 36/50\n",
      "34/34 [==============================] - 3s 81ms/step - loss: -0.8635 - mae: 0.0183 - l1: -0.8847\n",
      "Epoch 37/50\n",
      "34/34 [==============================] - 3s 80ms/step - loss: -0.8673 - mae: 0.0145 - l1: -0.8848\n",
      "Epoch 38/50\n",
      "34/34 [==============================] - 3s 82ms/step - loss: -0.7789 - mae: 0.0204 - l1: -0.8043\n",
      "Epoch 39/50\n",
      "34/34 [==============================] - 3s 80ms/step - loss: -0.8433 - mae: 0.0147 - l1: -0.8610\n",
      "Epoch 40/50\n",
      "34/34 [==============================] - 3s 80ms/step - loss: -0.8135 - mae: 0.0192 - l1: -0.8369\n",
      "Epoch 41/50\n",
      "34/34 [==============================] - 3s 80ms/step - loss: -0.7806 - mae: 0.0203 - l1: -0.8059\n",
      "Epoch 42/50\n",
      "34/34 [==============================] - 3s 80ms/step - loss: -0.7562 - mae: 0.0184 - l1: -0.7800\n",
      "Epoch 43/50\n",
      "34/34 [==============================] - 3s 80ms/step - loss: -0.7614 - mae: 0.0186 - l1: -0.7855\n",
      "Epoch 44/50\n",
      "34/34 [==============================] - 3s 79ms/step - loss: -0.8383 - mae: 0.0175 - l1: -0.8594\n",
      "Epoch 45/50\n",
      "34/34 [==============================] - 3s 80ms/step - loss: -0.7900 - mae: 0.0149 - l1: -0.8098\n",
      "Epoch 46/50\n",
      "34/34 [==============================] - 3s 79ms/step - loss: -0.8309 - mae: 0.0199 - l1: -0.8544\n",
      "Epoch 47/50\n",
      "34/34 [==============================] - 3s 80ms/step - loss: -0.8408 - mae: 0.0234 - l1: -0.8675\n",
      "Epoch 48/50\n",
      "34/34 [==============================] - 3s 80ms/step - loss: -0.8352 - mae: 0.0154 - l1: -0.8542\n",
      "Epoch 49/50\n",
      "34/34 [==============================] - 3s 80ms/step - loss: -0.8499 - mae: 0.0154 - l1: -0.8686\n",
      "Epoch 50/50\n",
      "34/34 [==============================] - 3s 80ms/step - loss: -0.8678 - mae: 0.0162 - l1: -0.8869\n",
      "34/34 [==============================] - 0s 7ms/step\n",
      "22/22 [==============================] - 0s 7ms/step\n",
      "{'MAE_TR': [0.028534511935558702], 'MAPE_TR': [11.407256901970857], 'M_TR': [0.3586112230510031], 'T_TR': [0.9799377983142445], 'FC_TR': [0.9088431], 'MI_TR': [0.8151828514475866], 'MAE_TS': [0.030331215420558204], 'MAPE_TS': [10.63261178522452], 'M_TS': [0.3710211499574712], 'T_TS': [0.9819548109927158], 'FC_TS': [0.8963997], 'MI_TS': [0.8158579140823871], 'TIME': [150.3648817539215], 'I': [0]}\n"
     ]
    }
   ],
   "source": [
    "result,z_train,z_test = eval_utils.train_and_evaluate_proposed_model(X_windows, W_windows, C_windows, U_windows,Y_windows,true_hi_train,X_windows_test, W_windows_test, C_windows_test, U_windows_test,Y_windows_test,true_hi_test,\n",
    "                                             model,runs = 1, epochs = 50, batch_size=20,learning_rate = 0.0001)"
   ]
  },
  {
   "cell_type": "code",
   "execution_count": 21,
   "metadata": {},
   "outputs": [
    {
     "data": {
      "text/html": [
       "<div>\n",
       "<style scoped>\n",
       "    .dataframe tbody tr th:only-of-type {\n",
       "        vertical-align: middle;\n",
       "    }\n",
       "\n",
       "    .dataframe tbody tr th {\n",
       "        vertical-align: top;\n",
       "    }\n",
       "\n",
       "    .dataframe thead th {\n",
       "        text-align: right;\n",
       "    }\n",
       "</style>\n",
       "<table border=\"1\" class=\"dataframe\">\n",
       "  <thead>\n",
       "    <tr style=\"text-align: right;\">\n",
       "      <th></th>\n",
       "      <th>MAE_TR</th>\n",
       "      <th>MAPE_TR</th>\n",
       "      <th>M_TR</th>\n",
       "      <th>T_TR</th>\n",
       "      <th>FC_TR</th>\n",
       "      <th>MI_TR</th>\n",
       "      <th>MAE_TS</th>\n",
       "      <th>MAPE_TS</th>\n",
       "      <th>M_TS</th>\n",
       "      <th>T_TS</th>\n",
       "      <th>FC_TS</th>\n",
       "      <th>MI_TS</th>\n",
       "      <th>TIME</th>\n",
       "      <th>I</th>\n",
       "    </tr>\n",
       "  </thead>\n",
       "  <tbody>\n",
       "    <tr>\n",
       "      <th>0</th>\n",
       "      <td>0.028535</td>\n",
       "      <td>11.407257</td>\n",
       "      <td>0.358611</td>\n",
       "      <td>0.979938</td>\n",
       "      <td>0.908843</td>\n",
       "      <td>0.815183</td>\n",
       "      <td>0.030331</td>\n",
       "      <td>10.632612</td>\n",
       "      <td>0.371021</td>\n",
       "      <td>0.981955</td>\n",
       "      <td>0.8964</td>\n",
       "      <td>0.815858</td>\n",
       "      <td>150.364882</td>\n",
       "      <td>0</td>\n",
       "    </tr>\n",
       "  </tbody>\n",
       "</table>\n",
       "</div>"
      ],
      "text/plain": [
       "     MAE_TR    MAPE_TR      M_TR      T_TR     FC_TR     MI_TR    MAE_TS  \\\n",
       "0  0.028535  11.407257  0.358611  0.979938  0.908843  0.815183  0.030331   \n",
       "\n",
       "     MAPE_TS      M_TS      T_TS   FC_TS     MI_TS        TIME  I  \n",
       "0  10.632612  0.371021  0.981955  0.8964  0.815858  150.364882  0  "
      ]
     },
     "execution_count": 21,
     "metadata": {},
     "output_type": "execute_result"
    }
   ],
   "source": [
    "pd.DataFrame(result)"
   ]
  },
  {
   "cell_type": "code",
   "execution_count": 22,
   "metadata": {},
   "outputs": [
    {
     "data": {
      "image/png": "[encoded data removed]",
      "text/plain": [
       "<Figure size 900x600 with 1 Axes>"
      ]
     },
     "metadata": {},
     "output_type": "display_data"
    }
   ],
   "source": [
    "cycles_smooth, units_smooth = eval_utils.smooth_cycle_units(C_windows_test,U_windows_test)\n",
    "u = 10\n",
    "run_id = 0\n",
    "idx = np.ravel(units_smooth==u)\n",
    "plt.plot(cycles_smooth[idx],z_test[run_id][idx],'#8BC53F',label = r'$hi_{p}^C$',linewidth = 3)\n",
    "idx2 = np.ravel(g_units==u)\n",
    "plt.plot(g_cycles[idx2],g_his[idx2],'#3FC5BC',label = r'$hi_{gt}$' ,linewidth = 3)\n",
    "plt.legend()\n",
    "plt.xlabel('Cycle')\n",
    "plt.ylabel('Health Index')\n",
    "plt.show()"
   ]
  },
  {
   "cell_type": "code",
   "execution_count": null,
   "metadata": {},
   "outputs": [],
   "source": []
  }
 ],
 "metadata": {
  "kernelspec": {
   "display_name": "Python 3 (ipykernel)",
   "language": "python",
   "name": "python3"
  }
 },
 "nbformat": 4,
 "nbformat_minor": 2
}
